{
  "nbformat": 4,
  "nbformat_minor": 0,
  "metadata": {
    "colab": {
      "name": "Project COVID-CT (Part 1).ipynb",
      "provenance": [],
      "mount_file_id": "1OdqrvmvVB3JnNKgqgm4-CfRHZry4ilow",
      "authorship_tag": "ABX9TyNR4PY+QE0Js23J83QeioEr",
      "include_colab_link": true
    },
    "kernelspec": {
      "name": "python3",
      "display_name": "Python 3"
    },
    "language_info": {
      "name": "python"
    }
  },
  "cells": [
    {
      "cell_type": "markdown",
      "metadata": {
        "id": "view-in-github",
        "colab_type": "text"
      },
      "source": [
        "<a href=\"https://colab.research.google.com/github/Keithlimhs/Predicting-COVID-status-with-CT-scans/blob/main/Project_COVID_CT_(Part_1).ipynb\" target=\"_parent\"><img src=\"https://colab.research.google.com/assets/colab-badge.svg\" alt=\"Open In Colab\"/></a>"
      ]
    },
    {
      "cell_type": "code",
      "metadata": {
        "colab": {
          "base_uri": "https://localhost:8080/"
        },
        "id": "oMSG3XzKfbO9",
        "outputId": "6f09e13a-29f9-4c32-927d-a45e440a1e2d"
      },
      "source": [
        "!pip install split-folders"
      ],
      "execution_count": 1,
      "outputs": [
        {
          "output_type": "stream",
          "text": [
            "Collecting split-folders\n",
            "  Downloading https://files.pythonhosted.org/packages/b8/5f/3c2b2f7ea5e047c8cdc3bb00ae582c5438fcdbbedcc23b3cc1c2c7aae642/split_folders-0.4.3-py3-none-any.whl\n",
            "Installing collected packages: split-folders\n",
            "Successfully installed split-folders-0.4.3\n"
          ],
          "name": "stdout"
        }
      ]
    },
    {
      "cell_type": "code",
      "metadata": {
        "id": "vUdW9esfm1u1"
      },
      "source": [
        "# import split-folders\n",
        "import splitfolders"
      ],
      "execution_count": 2,
      "outputs": []
    },
    {
      "cell_type": "code",
      "metadata": {
        "colab": {
          "base_uri": "https://localhost:8080/"
        },
        "id": "Tr08uk2hm7kq",
        "outputId": "492dd096-ce2f-4d5b-ab64-a9a7ed52ca6d"
      },
      "source": [
        "splitfolders.ratio(input='/content/drive/MyDrive/Project COVID-CT/Data', \n",
        "                   output= '/content/drive/MyDrive/Project COVID-CT/Data COVID-CT/output', \n",
        "                   seed=2021, \n",
        "                   ratio = (0.7, 0.15, 0.15))"
      ],
      "execution_count": 3,
      "outputs": [
        {
          "output_type": "stream",
          "text": [
            "Copying files: 746 files [07:58,  1.56 files/s]\n"
          ],
          "name": "stderr"
        }
      ]
    },
    {
      "cell_type": "code",
      "metadata": {
        "id": "l7sOfRJinUTi"
      },
      "source": [
        ""
      ],
      "execution_count": null,
      "outputs": []
    }
  ]
}